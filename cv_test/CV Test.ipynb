{
 "cells": [
  {
   "cell_type": "code",
   "execution_count": 2,
   "id": "2dc6af85-1a79-42df-bd40-a62c97d04a84",
   "metadata": {},
   "outputs": [],
   "source": [
    "import cv2\n",
    "import mediapipe as mp\n",
    "import numpy as np\n",
    "\n",
    "mp_hands = mp.solutions.hands\n",
    "mp_drawing = mp.solutions.drawing_utils\n",
    "hands = mp_hands.Hands(static_image_mode=False, max_num_hands=2, min_detection_confidence=0.7, min_tracking_confidence=0.7)\n",
    "\n",
    "cap = cv2.VideoCapture(0)\n",
    "\n",
    "while cap.isOpened():\n",
    "    ret, frame = cap.read()\n",
    "    if not ret:\n",
    "        break\n",
    "\n",
    "    frame_rgb = cv2.cvtColor(frame, cv2.COLOR_BGR2RGB)\n",
    "\n",
    "    result = hands.process(frame_rgb)\n",
    "\n",
    "    if result.multi_hand_landmarks:\n",
    "        for hand_landmarks in result.multi_hand_landmarks:\n",
    "            mp_drawing.draw_landmarks(frame, hand_landmarks, mp_hands.HAND_CONNECTIONS)\n",
    "\n",
    "            h, w, _ = frame.shape\n",
    "\n",
    "            for fingertip_id, knuckle_id in zip([4, 8, 12, 16, 20], [3, 7, 11, 15, 19]):\n",
    "                x_tip = int(hand_landmarks.landmark[fingertip_id].x * w)\n",
    "                y_tip = int(hand_landmarks.landmark[fingertip_id].y * h)\n",
    "                x_knuckle = int(hand_landmarks.landmark[knuckle_id].x * w)\n",
    "                y_knuckle = int(hand_landmarks.landmark[knuckle_id].y * h)\n",
    "\n",
    "                dx = x_tip - x_knuckle\n",
    "                dy = y_tip - y_knuckle\n",
    "\n",
    "                nail_x = x_tip + int(dx * 0.3)\n",
    "                nail_y = y_tip + int(dy * 0.3)\n",
    "\n",
    "                nail_region = frame[max(0, nail_y-15):min(h, nail_y+15), max(0, nail_x-15):min(w, nail_x+15)]\n",
    "\n",
    "                cv2.rectangle(frame, (nail_x-15, nail_y-15), (nail_x+15, nail_y+15), (0, 255, 0), 2)\n",
    "\n",
    "                if nail_region.size > 0:\n",
    "                    cv2.imshow(f\"Nail {fingertip_id}\", nail_region)\n",
    "\n",
    "    cv2.imshow(\"Hand and Nails Detection\", frame)\n",
    "\n",
    "    if cv2.waitKey(1) & 0xFF == ord('q'):\n",
    "        break\n",
    "\n",
    "cap.release()\n",
    "cv2.destroyAllWindows()"
   ]
  }
 ],
 "metadata": {
  "kernelspec": {
   "display_name": "Python 3 (ipykernel)",
   "language": "python",
   "name": "python3"
  },
  "language_info": {
   "codemirror_mode": {
    "name": "ipython",
    "version": 3
   },
   "file_extension": ".py",
   "mimetype": "text/x-python",
   "name": "python",
   "nbconvert_exporter": "python",
   "pygments_lexer": "ipython3",
   "version": "3.11.7"
  }
 },
 "nbformat": 4,
 "nbformat_minor": 5
}
